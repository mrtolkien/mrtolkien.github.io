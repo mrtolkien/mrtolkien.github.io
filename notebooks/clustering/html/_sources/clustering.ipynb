{
 "cells": [
  {
   "cell_type": "markdown",
   "metadata": {},
   "source": [
    "# Clustering Legends of Runeterra archetypes\n",
    "\n",
    "## Goal\n",
    "\n",
    "Given a list of `n` [Legends of Runeterra](https://playruneterra.com/en-sg/) decks, how to automatically group them into **archetypes**, *ie* groups of similar decks?\n",
    "\n",
    "Clustering decks as archetypes allows for better calculation of metrics like win-rate and play-rate. This is a problem that comes back for every card game I have ever played, and is usually \"simply\" solved by humans sort the decks themselves.\n",
    "\n",
    "But what if deck clustering could be automated?\n",
    "\n",
    "## Approaches\n",
    "\n",
    "### Intuition\n",
    "\n",
    "I started to think about how to \"simply\" group decklists. Two ways came to mind:\n",
    "\n",
    "- Choosing decks that have a pool of common cards\n",
    "- Choosing decks that have few different cards\n",
    "\n",
    "Whichever distance we choose, we can start from individual decks and add new decks one by one, selecting the \"closest\" one to the cluster at each step. We can do this process in descending popularity order, so ties are broken by the popularity of decks. We can then select the biggest non-overlapping clusters found as good archetypes and re-start the process.\n",
    "\n",
    "It does sound pretty close to k-means as it also relies on a centroid vector for each cluster, but here we don't have to select how many clusters we want from the start. We can also have clusters of very different sizes and it will not be an issue with our approach.\n",
    "\n",
    "We'll call that method **incremental constrained cluster growth** and it's the one I'll be implementing in this blog post.\n",
    "\n",
    "### Existing clustering algorithms\n",
    "\n",
    "Clustery analysis is a complex and heavily researched domain. Algorithms usually exhibit `O(n**3)` complexity.\n",
    "\n",
    "The most popular clustering algorithm, or at least the only one I remember from my M.Sc., is [k-means](https://en.wikipedia.org/wiki/K-means_clustering). It's unfortunately a pretty poor fit here as we don't know the number of archetypes/clusters we are looking for, and it's also poorly adapted for clusters of vastly different sizes.\n",
    "\n",
    "[Hierarchical clustering](https://en.wikipedia.org/wiki/Hierarchical_clustering) is a better fit for our use-case:\n",
    "\n",
    "> In data mining and statistics, hierarchical clustering (also called hierarchical cluster analysis or HCA) is a method of cluster analysis which seeks to build a hierarchy of clusters.\n",
    "\n",
    "Deck archetypes naturally have multiple levels of \"granularity\" we can look at. From big macro archetypes being defined only by a few cards to micro archetypes arising from very few card differences. Ordering them in a hierarchy sounds like a great fit even though it will be harder to use for visualisation and analysis.\n",
    "\n",
    "I will try hierarchical clustering and visualisation at some point, but I'm keeping it for a future blog post!\n"
   ]
  },
  {
   "cell_type": "markdown",
   "metadata": {},
   "source": [
    "## Preparing data\n",
    "\n",
    "### Games selection\n",
    "\n",
    "As Legends of Runeterra does not offer access to ranks through its API, I use [TrueSkill](https://trueskill.org/) to identify the best players on a given server and parse them in descending skill order. I only use ranked results to determine skill ratings.\n",
    "\n",
    "I verified the algorithm by verifying that the best players identified by TrueSkill were indeed in Master rank. We can do that by checking account names, which is the only type of rank data available.\n",
    "\n",
    "This allows me to parse games for the ~20 000 best players per server, which returns ~35 000 ranked games per day per server. As there are 3 servers in total, we have ~100 000 games per day of data. This likely covers rank until platinum, and maybe even gold. But we have no way to check as LoR's API doesn't let us query ranks for players ¯\\\\_(ツ)_/¯\n",
    "\n",
    "### SQL query\n",
    "\n",
    "The data parsed from Riot's API is susceptible to regular model changes and I've therefore saved it as a `JSONB` column in `Postgres`.\n",
    "\n",
    "I have written that query in many different ways but in the end making a subquery to create a `player` table was the easiest for me to maintain. I'm sure this query can be written in a smarter way but I'm still only starting to get used to `JSONB` direct querying with Postgres:\n",
    "\n",
    "```postgres\n",
    "SELECT\n",
    "  deck_code,\n",
    "  factions,\n",
    "  COUNT(*) as games,\n",
    "  COUNT(CASE WHEN win::boolean THEN 1 END) as wins\n",
    "FROM (\n",
    "  SELECT\n",
    "    jsonb_array_elements(lor_game.data->'info'->'players')->>'win' as win,\n",
    "    jsonb_array_elements(lor_game.data->'info'->'players')->>'deck_code' as deck_code,\n",
    "    jsonb_array_elements(lor_game.data->'info'->'players')->>'factions' as factions\n",
    "  FROM lor_game\n",
    "  WHERE lor_game.data->'info'->>'game_version' = 'live-green-3-13-42'\n",
    ") as player\n",
    "GROUP BY deck_code, factions\n",
    "HAVING COUNT(*) > 10\n",
    "ORDER BY games DESC\n",
    "```\n",
    "\n",
    "Result:\n",
    "\n",
    "| Deck code | Factions | Games | Wins |\n",
    "| --- | --- | --- | --- |\n",
    "| `CICQCAQDAMAQKBQBAEDA(...)` |\t[\"faction_Bilgewater_Name\", \"faction_Noxus_Name\"]\t| 39880 |\t24067 |\n",
    "| `CMCQCAQAAIAQIAADAECA(...)` |\t[\"faction_Demacia_Name\", \"faction_Shurima_Name\"] | 24118 | 12756 |\n",
    "| `CUFACAIEGYAQEBR4AEBQ(...)` |\t[\"faction_Jhin_Name\", \"faction_Noxus_Name\"]\t| 16387 |\t9315 |\n",
    "| `CMBQCAQAAIBAIB3HQIAQ(...)` |\t[\"faction_Demacia_Name\", \"faction_Shurima_Name\"]\t|16153|\t9146|\n",
    "| ...  | ... | ... | ... |\n"
   ]
  },
  {
   "cell_type": "code",
   "execution_count": 21,
   "metadata": {},
   "outputs": [
    {
     "name": "stdout",
     "output_type": "stream",
     "text": [
      "Games found: 2,384,775\n"
     ]
    }
   ],
   "source": [
    "# Loading our env variables before we load our library\n",
    "import dotenv\n",
    "\n",
    "dotenv.load_dotenv(verbose=True, override=True)\n",
    "\n",
    "# We checked for the latest patch value by looking at the most recent games\n",
    "latest_version = \"live-green-3-13-42\"\n",
    "\n",
    "# Connecting to the database\n",
    "from neotokyo import db\n",
    "\n",
    "session = db.connection.ghost_session_maker.session_maker()\n",
    "\n",
    "# ORM\n",
    "import sqlalchemy\n",
    "from sqlalchemy.dialects import postgresql\n",
    "\n",
    "# Defining our subquery, already filtered on the right game version\n",
    "# Tbh the postgres JSONB syntax in SQLAlchemy is pretty disgusting\n",
    "player_table = (\n",
    "    sqlalchemy.select(\n",
    "        sqlalchemy.func.jsonb_array_elements(\n",
    "            db.models.LorGame.data[\"info\"][\"players\"],\n",
    "            type_=postgresql.JSONB,\n",
    "        )[\"deck_code\"].astext.label(\"deck_code\"),\n",
    "        sqlalchemy.func.jsonb_array_elements(\n",
    "            db.models.LorGame.data[\"info\"][\"players\"],\n",
    "            type_=postgresql.JSONB,\n",
    "        )[\"factions\"].astext.label(\"factions\"),\n",
    "        sqlalchemy.func.jsonb_array_elements(\n",
    "            db.models.LorGame.data[\"info\"][\"players\"],\n",
    "            type_=postgresql.JSONB,\n",
    "        )[\"win\"].astext.label(\"win\"),\n",
    "    )\n",
    "    # We put our patch limit here so the subquery return is smaller\n",
    "    .where(\n",
    "        db.models.LorGame.data[\"info\"][\"game_version\"].astext == latest_version,\n",
    "    )\n",
    "    .subquery()\n",
    ")\n",
    "\n",
    "games_count = sqlalchemy.func.count().label(\"games_count\")\n",
    "wins = sqlalchemy.func.count(\n",
    "    sqlalchemy.case(\n",
    "        (player_table.c.win == \"true\", 1),\n",
    "    )\n",
    ").label(\"wins\")\n",
    "\n",
    "# The disgusting player_table code lets us write a pretty clean and readable query at least!\n",
    "query = (\n",
    "    sqlalchemy.select(\n",
    "        player_table.c.deck_code,\n",
    "        player_table.c.factions,\n",
    "        games_count,\n",
    "        wins,\n",
    "    )\n",
    "    .order_by(games_count.desc())\n",
    "    .group_by(\n",
    "        player_table.c.deck_code,\n",
    "        player_table.c.factions,\n",
    "    )\n",
    "    .having(games_count > 10)\n",
    ")\n",
    "\n",
    "# We get the results as a list\n",
    "latest_patch_decks = session.execute(query).all()\n",
    "\n",
    "print(f\"Games found: {sum(dd.games_count for dd in latest_patch_decks):,}\")\n"
   ]
  },
  {
   "cell_type": "markdown",
   "metadata": {},
   "source": [
    "\n",
    "### Deck codes to deck lists\n",
    "\n",
    "Riot gives us [deck codes](https://github.com/RiotGames/LoRDeckCodes), but we want a list of cards to easily compute the distance. *Technically* one could implement the algorithm in pure SQL, but it's quite a pain.\n",
    "\n",
    "We will instead use [lor-deckcodes](https://github.com/Rafalonso/LoRDeckCodesPython) to transform deck codes into a list of card codes and counts, and will then transform card cards into card names using our own database.\n",
    "\n",
    "To store decklists in an easy to compare format we will use a **set** of 40 strings with card names postfixed by their occurence number:\n",
    "```\n",
    "{\n",
    "  Veigar-1,\n",
    "  Veigar-2,\n",
    "  Veigar-3,\n",
    "  Senna-1,\n",
    "  ...\n",
    "}\n",
    "```"
   ]
  },
  {
   "cell_type": "code",
   "execution_count": 18,
   "metadata": {
    "tags": [
     "hide-input"
    ]
   },
   "outputs": [
    {
     "name": "stdout",
     "output_type": "stream",
     "text": [
      "Decks found: 40,638\n"
     ]
    },
    {
     "data": {
      "text/html": [
       "<h3>CICQCAQDAMAQKBQBAEDAMFIEAIDBMGRGHICQCAYCBQHSKKACAEBAMLIBAYDB4AA</b></h2>\n",
       "<ul><li>Games: 70,305</li>\n",
       "<li>Winrate: 60.13%</li>\n",
       "<li>Factions: [\"faction_Bilgewater_Name\", \"faction_Noxus_Name\"]</li>\n",
       "<li>Decklist: <table>\n",
       "<tbody>\n",
       "<tr><td>3x Precious Pet  </td><td>3x Marai Warden       </td><td>3x Legion Saboteur</td><td>3x Zap Sprayfin    </td></tr>\n",
       "<tr><td>3x Decimate      </td><td>3x Legion Grenadier   </td><td>3x Noxian Fervor  </td><td>3x Twisted Fate    </td></tr>\n",
       "<tr><td>3x Riptide Sermon</td><td>3x Miss Fortune       </td><td>3x Jagged Butcher </td><td>3x Legion Rearguard</td></tr>\n",
       "<tr><td>2x Make it Rain  </td><td>2x Eye of Nagakabouros</td><td>                  </td><td>                   </td></tr>\n",
       "</tbody>\n",
       "</table></li>"
      ],
      "text/plain": [
       "<IPython.core.display.HTML object>"
      ]
     },
     "metadata": {},
     "output_type": "display_data"
    },
    {
     "name": "stdout",
     "output_type": "stream",
     "text": [
      "Raw cards data:  {'Marai Warden-2', 'Precious Pet-3', 'Marai Warden-3', 'Jagged Butcher-1', 'Make it Rain-2', 'Legion Grenadier-2', 'Legion Saboteur-3', 'Miss Fortune-2', 'Zap Sprayfin-3', 'Zap Sprayfin-1', 'Miss Fortune-1', 'Decimate-3', 'Eye of Nagakabouros-2', 'Noxian Fervor-2', 'Precious Pet-2', 'Riptide Sermon-1', 'Legion Rearguard-1', 'Eye of Nagakabouros-1', 'Legion Grenadier-3', 'Marai Warden-1', 'Twisted Fate-2', 'Legion Grenadier-1', 'Noxian Fervor-3', 'Twisted Fate-3', 'Zap Sprayfin-2', 'Riptide Sermon-3', 'Jagged Butcher-2', 'Legion Saboteur-1', 'Decimate-2', 'Make it Rain-1', 'Legion Saboteur-2', 'Twisted Fate-1', 'Miss Fortune-3', 'Jagged Butcher-3', 'Legion Rearguard-3', 'Noxian Fervor-1', 'Precious Pet-1', 'Riptide Sermon-2', 'Decimate-1', 'Legion Rearguard-2'}\n"
     ]
    }
   ],
   "source": [
    "# Defining constants\n",
    "DECK_SIZE = 40\n",
    "\n",
    "# Adding a small utility to compute card names\n",
    "card_cache = {}\n",
    "\n",
    "\n",
    "def get_card_name(code: str) -> str:\n",
    "    if code not in card_cache:\n",
    "        card_cache[code] = session.get(db.models.LorCard, code).data[\"name\"]\n",
    "\n",
    "    return card_cache[code]\n",
    "\n",
    "\n",
    "from typing import Set\n",
    "\n",
    "\n",
    "# A small function to have more readable card lists\n",
    "#   We don't do it based on deck codes/decklists because we want to use it with archetypes later\n",
    "def cards_table(cards: Set[str]) -> str:\n",
    "    \"\"\"Beautiful output of cards\"\"\"\n",
    "    import tabulate\n",
    "\n",
    "    # We could do all that with complex list comprehensions but the gain in performance is not worth the loss in readability\n",
    "    tabulate_input = []\n",
    "    current_row = []\n",
    "    added_cards = set()\n",
    "\n",
    "    for card in sorted(\n",
    "        cards,\n",
    "        # The last character is the # of copies and we want to go in descending order\n",
    "        key=lambda x: x[-1],\n",
    "        reverse=True,\n",
    "    ):\n",
    "        card_name = card[:-2]\n",
    "\n",
    "        # If we already added the card we continue\n",
    "        if card_name in added_cards:\n",
    "            continue\n",
    "\n",
    "        added_cards.add(card_name)\n",
    "        current_row.append(f\"{card[-1]}x {card_name}\")\n",
    "\n",
    "        # We put only 4 cards per row\n",
    "        if len(current_row) == 4:\n",
    "            tabulate_input.append(current_row)\n",
    "            current_row = []\n",
    "\n",
    "    if current_row:\n",
    "        tabulate_input.append(current_row)\n",
    "\n",
    "    return tabulate.tabulate(tabulate_input, tablefmt=\"html\")\n",
    "\n",
    "\n",
    "# Making a dataclass to hold our information\n",
    "from dataclasses import dataclass\n",
    "\n",
    "# Utilities for outputting HTML\n",
    "from IPython.display import HTML, display\n",
    "\n",
    "# A dataclass automatically creates its own __init__ functions from type hints which is nice\n",
    "@dataclass\n",
    "class DeckData:\n",
    "    deck_code: str\n",
    "\n",
    "    factions: str\n",
    "    cards: Set[str]\n",
    "\n",
    "    games_count: int\n",
    "    wins: int\n",
    "\n",
    "    @property\n",
    "    def winrate(self):\n",
    "        return self.wins / self.games_count\n",
    "\n",
    "    def display(self):\n",
    "        display(\n",
    "            HTML(\n",
    "                f\"\"\"<h3>{self.deck_code}</b></h2>\n",
    "<ul><li>Games: {self.games_count:,}</li>\n",
    "<li>Winrate: {self.winrate*100:.2f}%</li>\n",
    "<li>Factions: {self.factions}</li>\n",
    "<li>Decklist: {cards_table(self.cards)}</li>\"\"\"\n",
    "            )\n",
    "        )\n",
    "\n",
    "\n",
    "import lor_deckcodes\n",
    "\n",
    "decks_data = {}\n",
    "\n",
    "for row in latest_patch_decks:\n",
    "    deck = lor_deckcodes.LoRDeck.from_deckcode(row.deck_code)\n",
    "\n",
    "    # We store decklist as a set of 40 unique strings as it lets use the intersection operator\n",
    "    # I tried storing decklists as sets of unique integers but saw no significant performance improvement\n",
    "    cards = set()\n",
    "    for card in deck.cards:\n",
    "        for i in range(card.count):\n",
    "            cards.add(f\"{get_card_name(card.card_code)}-{i+1}\")\n",
    "\n",
    "    # Making sure we do have 40 unique card strings in our set\n",
    "    assert len(cards) == DECK_SIZE\n",
    "\n",
    "    # Saving all the data we got for this specific deck code\n",
    "    decks_data[row.deck_code] = DeckData(\n",
    "        deck_code=row.deck_code,\n",
    "        factions=row.factions,\n",
    "        games_count=row.games_count,\n",
    "        wins=row.wins,\n",
    "        cards=cards,\n",
    "    )\n",
    "\n",
    "\n",
    "print(f\"Decks found: {len(decks_data):,}\")\n",
    "\n",
    "first_deck_code = next(iter(decks_data))\n",
    "decks_data[first_deck_code].display()\n",
    "\n",
    "print(\"Raw cards data: \", decks_data[first_deck_code].cards)\n"
   ]
  },
  {
   "cell_type": "markdown",
   "metadata": {},
   "source": [
    "## Implementing incremental constrained cluster growth\n",
    "\n",
    "### Basic idea\n",
    "\n",
    "- Define the **distance** from a deck to a cluster\n",
    "- Iterate on decks in descending popularity (# games)\n",
    "- For each deck\n",
    "  - Create a cluster containing only this deck\n",
    "  - Add decks one by one by, selecting the one with shortest distance to the cluster each step\n",
    "- Add non-overlapping clusters in descending size\n",
    "- Re-start iteration with any remaining decks\n",
    "\n",
    "The **archetype** will be the aggregate decklist as defined by [Frank Karsten's in this ChannelFireball article](https://strategy.channelfireball.com/all-strategy/mtg/channelmagic-articles/magic-math-a-new-way-to-determine-an-aggregate-deck-list-rg-dragons/).\n",
    "\n",
    "#### Things that didn't work out\n",
    "\n",
    "- With a direct implementation, computational time was through the roof at **~24h with ~20,000 decks**\n",
    "  - Complexity `O(n**3)` does that\n",
    "- Even with multiple optimisations and shortcuts the method was still way too heavy and took multiple hours for each iteration\n",
    "\n",
    "- I tried an idea I called *fast cutoff*, which would directly select a cluster if it contained more than 1% of all decks\n",
    "  - It did heavily speed up the process at the cost of clustering quality\n",
    "  - I was able to *not* need it anymore once I fixed my code\n",
    "\n",
    "### Deck factions\n",
    "\n",
    "The most important thing to add was \"pre-clustering\". `O(n**3)` complexity means that if we're able to split the data into 100 sets, complexity goes down by 1,000,000.\n",
    "\n",
    "And there are 100 obvious sets for our data: the deck's factions. Those are similar to deck colors in Magic or hero in Hearthstone.\n",
    "\n",
    "Forcing all decks in an archetypes to be the same factions does lose some granularity for decks that just splash 3/6 cards in a different faction, but it's actually something we *want*. The end goal is identifying success of different strategies, and changing a splash in a deck is a new strategy.\n",
    "\n",
    "The simplification also allowed me to drop the fast cutoff idea as I was working with much smaller lists of decks to cluster at each step."
   ]
  },
  {
   "cell_type": "code",
   "execution_count": 3,
   "metadata": {},
   "outputs": [
    {
     "name": "stdout",
     "output_type": "stream",
     "text": [
      "Found 88 different factions\n",
      "The faction with the most decks is [\"faction_BandleCity_Name\", \"faction_ShadowIsles_Name\"]\n"
     ]
    }
   ],
   "source": [
    "from collections import defaultdict\n",
    "\n",
    "# Creating faction groups\n",
    "# We use lists and not sets because we want to keep the decks ordered by count\n",
    "factions_decks = defaultdict(list)\n",
    "\n",
    "for deck_code in decks_data:\n",
    "    factions_decks[decks_data[deck_code].factions].append(deck_code)\n",
    "\n",
    "print(f\"Found {len(factions_decks):,} different factions\")\n",
    "\n",
    "max_faction = max(factions_decks, key=lambda x: len(factions_decks[x]))\n",
    "print(f\"The faction with the most decks is\", max_faction)\n"
   ]
  },
  {
   "cell_type": "markdown",
   "metadata": {},
   "source": [
    "### Distance and clusters\n",
    "\n",
    "#### Distance between two decks\n",
    "\n",
    "Distance is calculated through the intersection operator for sets applied on the set of cards in the deck: `&`.\n",
    "\n",
    "This works as each copy (1-2-3) is defined as a unique string in our decklists.\n",
    "\n",
    "#### Distance from a deck to a cluster\n",
    "\n",
    "The distance from a deck to a cluster is 0 if adding the new deck does not change the intersection of existing decks in the cluster. If it requires removing a card from the intersection to add the new deck, it's 1, and so on and so forth.\n",
    "\n",
    "I initially implemented it wrongly, which cost me a lot of time.\n",
    "\n",
    "The right way to calculate the distance from a deck to a cluster is to use the cluster's intersection and compare it to the decklist.\n",
    "\n",
    "#### Implementation\n",
    "\n",
    "What really matters to us is the distance of a deck to a cluster, so it's even easier to implement all those as part of a `Cluster` class.\n",
    "\n",
    "While we're at it we implement the aggregate decklist code in that class as well as some basic stats handling and a beautiful display!"
   ]
  },
  {
   "cell_type": "code",
   "execution_count": 4,
   "metadata": {},
   "outputs": [],
   "source": [
    "from abc import abstractmethod\n",
    "from collections import Counter\n",
    "from typing import Optional\n",
    "\n",
    "type_cache = {}\n",
    "\n",
    "\n",
    "def get_card_type(name: str) -> str:\n",
    "    if name not in type_cache:\n",
    "        card = (\n",
    "            session.query(db.models.LorCard)\n",
    "            .filter(db.models.LorCard.data[\"name\"].astext == name)\n",
    "            .first()\n",
    "        )\n",
    "        type_cache[name] = card.data[\"supertype\"]\n",
    "\n",
    "    return type_cache[name]\n",
    "\n",
    "\n",
    "# A class we'll use to compute cluster stats and display them\n",
    "class ClusterStats:\n",
    "    def __init__(self, cluster) -> None:\n",
    "        self.cluster = cluster\n",
    "\n",
    "        cards_count = Counter()\n",
    "\n",
    "        self.wins = 0\n",
    "        self.games_count = 0\n",
    "\n",
    "        for deck_code in self.cluster.decks:\n",
    "            self.games_count += decks_data[deck_code].games_count\n",
    "            self.wins += decks_data[deck_code].wins\n",
    "            self.factions = decks_data[deck_code].factions\n",
    "\n",
    "            for card in decks_data[deck_code].cards:\n",
    "                # Instead of just using 1, we use the decklists' wins\n",
    "                #   This makes it so not only more popular versions have more weight, but successful ones do too\n",
    "                cards_count[card] += decks_data[deck_code].wins\n",
    "\n",
    "        self.aggregated_decklist = [c for c, count in cards_count.most_common(40)]\n",
    "\n",
    "        champions = set(\n",
    "            c[:-2]\n",
    "            for c in self.aggregated_decklist\n",
    "            if get_card_type(c[:-2]) == \"Champion\"\n",
    "        )\n",
    "\n",
    "        self.title = f\"\"\"{\" \".join(champions)} - {\n",
    "            \" \".join(n[9:-6] for n in self.factions.replace(\" \", \"\")[1:-1].split(\",\"))\n",
    "        }\"\"\"\n",
    "\n",
    "    @property\n",
    "    def winrate(self):\n",
    "        return self.wins / self.games_count\n",
    "\n",
    "    def display(self):\n",
    "        display(\n",
    "            HTML(\n",
    "                f\"\"\"<h3>{self.title}</h3>\n",
    "    <ul>\n",
    "    <li><b>{self.winrate*100:.2f}% winrate</b></li>\n",
    "    <li>{self.games_count:,} games</li>\n",
    "    <li>{len(self.cluster.decks)} decklists</li>\n",
    "    <li>Aggregated decklist: {cards_table(self.aggregated_decklist)}</li></ul>\"\"\"\n",
    "            )\n",
    "        )\n",
    "\n",
    "\n",
    "class Cluster:\n",
    "    def __init__(self, center: str) -> None:\n",
    "        self.decks = [center]\n",
    "\n",
    "    def __contains__(self, item) -> bool:\n",
    "        return True if item in self.decks else False\n",
    "\n",
    "    def __len__(self) -> int:\n",
    "        return len(self.decks)\n",
    "\n",
    "    @abstractmethod\n",
    "    def distance(self, deck_code: str) -> int:\n",
    "        ...\n",
    "\n",
    "    @abstractmethod\n",
    "    def can_be_added_to_cluster(self, distance: int) -> Optional[bool]:\n",
    "        # TODO Check if we actually need that\n",
    "        # We will use a trilean here\n",
    "        #   True -> can be added\n",
    "        #   False -> cannot be added yet\n",
    "        #   None -> will never be able to be added (useful for some distances)\n",
    "\n",
    "        # We use the distance as argument so we don't compute it twice but to allow for different rules\n",
    "        ...\n",
    "\n",
    "    @abstractmethod\n",
    "    def add(self, deck_code: str) -> None:\n",
    "        ...\n",
    "\n",
    "    def get_stats(self) -> ClusterStats:\n",
    "        return ClusterStats(self)\n"
   ]
  },
  {
   "cell_type": "markdown",
   "metadata": {},
   "source": [
    "### Centered clusters\n",
    "\n",
    "Given a `center` deck and a list of `candidates`, we want to find the \"best\" cluster built around `center`.\n",
    "\n",
    "To do that, we add decks one by one, taking the *closest* one to the cluster at each step.\n",
    "\n",
    "There are a few possible optimisations:\n",
    "- If a deck has a distance 0 to the cluster, we should be able to add it instantly\n",
    "    - Distance 0 should mean adding it doesn't change our cluster\n",
    "<!-- TODO CHECK \n",
    "- Each deck whose addition would force the cluster's intersection to go below the number of `COMMON_CARDS` with the cluster can be removed directly\n",
    "    - This allows us to remove almost all decks on the first pass and then only add meaningful ones in order -->"
   ]
  },
  {
   "cell_type": "code",
   "execution_count": 5,
   "metadata": {},
   "outputs": [],
   "source": [
    "import copy\n",
    "from typing import List\n",
    "import time\n",
    "\n",
    "\n",
    "def get_centered_cluster(\n",
    "    center: str,\n",
    "    candidates: List[str],\n",
    "    cluster_class: Cluster,\n",
    ") -> Cluster:\n",
    "\n",
    "    # We start the cluster with the center\n",
    "    cluster = cluster_class(center)\n",
    "\n",
    "    # We remove it from the candidates\n",
    "    candidates.remove(center)\n",
    "\n",
    "    # We iterate until we aren't able to add an eligible deck or we've added them all\n",
    "    while len(candidates) > 0:\n",
    "\n",
    "        # This is the maximum value (fully disjointed decks)\n",
    "        minimum_distance = float(\"inf\")\n",
    "        minimum_deck = None\n",
    "\n",
    "        # We iterate on possible members\n",
    "        # We copy the list because we want to be able to remove candidates during iteration\n",
    "        for candidate in list(candidates):\n",
    "\n",
    "            cluster_distance = cluster.distance(candidate)\n",
    "            can_be_added = cluster.can_be_added_to_cluster(cluster_distance)\n",
    "\n",
    "            # We check if the deck can be added to our cluster first\n",
    "            if can_be_added is None:\n",
    "                # We use a trilean to speed up the process with some algorithms\n",
    "                candidates.remove(candidate)\n",
    "\n",
    "            elif can_be_added is False:\n",
    "                pass\n",
    "\n",
    "            elif can_be_added is True:\n",
    "                # If distance = 0 we can add the deck directly (happens for common cards clustering)\n",
    "                if cluster_distance == 0:\n",
    "                    cluster.add(candidate)\n",
    "                    candidates.remove(candidate)\n",
    "                    continue\n",
    "\n",
    "                # We check if we found a new closest candidate and save it if that's the case\n",
    "                if cluster_distance < minimum_distance:\n",
    "                    minimum_distance = cluster_distance\n",
    "                    minimum_deck = candidate\n",
    "\n",
    "        # One step of iterations on candidates is over\n",
    "\n",
    "        # If we didn't find a new minimum deck, we stop\n",
    "        if minimum_deck is None:\n",
    "            break\n",
    "\n",
    "        # Adding the deck we found to our cluster\n",
    "        cluster.add(minimum_deck)\n",
    "\n",
    "        # We remove the deck from the remaining decks and continue iterating\n",
    "        candidates.remove(minimum_deck)\n",
    "\n",
    "    return cluster\n"
   ]
  },
  {
   "cell_type": "markdown",
   "metadata": {},
   "source": [
    "### Getting all clusters\n",
    "\n",
    "Then, we make a function for getting all clusters for a list of deck codes. This one's pretty simple."
   ]
  },
  {
   "cell_type": "code",
   "execution_count": 6,
   "metadata": {},
   "outputs": [],
   "source": [
    "from typing import List\n",
    "\n",
    "\n",
    "def get_all_clusters(deck_codes: List[str], cluster_class: Cluster) -> List[Cluster]:\n",
    "    \"\"\"Gets all clusters centered on each deck code\n",
    "\n",
    "    Args:\n",
    "        deck_codes (List[str]): a list of deck codes\n",
    "\n",
    "    Returns:\n",
    "        List[Cluster]: all clusters found centered on each deck code\n",
    "    \"\"\"\n",
    "    clusters = []\n",
    "\n",
    "    for center in deck_codes:\n",
    "        # We copy the list of deck codes because we change it in our code above\n",
    "        candidates = list(deck_codes)\n",
    "\n",
    "        # We get the biggest cluster centered on deck\n",
    "        clusters.append(get_centered_cluster(center, candidates, cluster_class))\n",
    "\n",
    "    return clusters\n"
   ]
  },
  {
   "cell_type": "markdown",
   "metadata": {},
   "source": [
    "### Clustering a list of decks\n",
    "\n",
    "We now have all the necessary building blocks to make our last function. One that takes a list of deck codes and returns clusters containing all decks.\n",
    "\n",
    "Pseudocode:\n",
    "- Call `get_all_clusters` to get all clusters centered on each remaining deck code\n",
    "- Order them by size\n",
    "- Add them in descending size order as long as they don't contain any deck that's already in our result\n",
    "    - The biggest one will always get added\n",
    "    - Smaller ones can get added directly if they have no overlap with the big clusters found in that step\n",
    "- Restart the process until all decks have been assigned to a cluster"
   ]
  },
  {
   "cell_type": "code",
   "execution_count": 7,
   "metadata": {},
   "outputs": [],
   "source": [
    "def get_best_clusters(deck_codes: List[str], cluster_class: Cluster) -> List[Cluster]:\n",
    "    \"\"\"Gets the best clusters for the list of deck codes\n",
    "\n",
    "    Args:\n",
    "        deck_codes (List[str]): a list of deck codes\n",
    "\n",
    "    Returns:\n",
    "        List[Cluster]: the best clusters found\n",
    "    \"\"\"\n",
    "    clusters = []\n",
    "    remaining_decks = deck_codes\n",
    "\n",
    "    def clusters_contains_deck(clusters: List[Cluster], deck) -> bool:\n",
    "        # Return True if the deck is in any of the clusters already found\n",
    "        return any(deck in c for c in clusters)\n",
    "\n",
    "    while len(remaining_decks) > 0:\n",
    "        possible_clusters = get_all_clusters(remaining_decks, cluster_class)\n",
    "\n",
    "        for possible_cluster in sorted(\n",
    "            possible_clusters, key=lambda x: len(x), reverse=True\n",
    "        ):\n",
    "            # If no other cluster already contains any of the decks in the current candidate cluster, we add it\n",
    "            # This means we will always add the biggest cluster found at that step\n",
    "            if all(not clusters_contains_deck(clusters, d) for d in possible_cluster.decks):\n",
    "                clusters.append(possible_cluster)\n",
    "\n",
    "            # Else we pass to the next possible cluster\n",
    "            else:\n",
    "                continue\n",
    "\n",
    "        # We update our remaining decks\n",
    "        remaining_decks = [\n",
    "            d for d in deck_codes if not clusters_contains_deck(clusters, d)\n",
    "        ]\n",
    "\n",
    "    return clusters\n"
   ]
  },
  {
   "cell_type": "markdown",
   "metadata": {},
   "source": [
    "## Clustering based on common cards\n",
    "\n",
    "- All decks in an archetype must share `ARCHETYPE_SIZE` cards\n",
    "- Any deck whose addition would make the cluster intersection go below `ARCHETYPE_SIZE` can directly be eliminated\n",
    "    - Adding more decks will make the cluster *more* stringent with future additions"
   ]
  },
  {
   "cell_type": "code",
   "execution_count": 8,
   "metadata": {},
   "outputs": [],
   "source": [
    "ARCHETYPE_SIZE = DECK_SIZE - 10\n",
    "\n",
    "class CommonCardsCluster(Cluster):\n",
    "    def __init__(self, center: str) -> None:\n",
    "        super().__init__(center)\n",
    "\n",
    "        # Saving the intersection of the decklists in our cluster will help speed up the process\n",
    "        self.intersection = decks_data[center].cards\n",
    "\n",
    "        self.archetype_size = ARCHETYPE_SIZE\n",
    "\n",
    "    @staticmethod\n",
    "    def deck_to_deck_distance(dc_1: str, dc_2: str):\n",
    "        # A small class method for validation\n",
    "        return DECK_SIZE - len(\n",
    "            # & is the intersection operator for sets\n",
    "            decks_data[dc_1].cards\n",
    "            & decks_data[dc_2].cards\n",
    "        )\n",
    "\n",
    "    def distance(self, deck_code: str) -> int:\n",
    "        # If the cluster_intersection is fully contained in the decks_data cards, cluster_intersection = cluster + deck intersetion and len = 0\n",
    "        # This will always be >= 0 because at most there's full overlap between a deck and a cluster's intersection\n",
    "        return len(self.intersection) - len(\n",
    "            # & is the intersection operator for sets\n",
    "            self.intersection\n",
    "            & decks_data[deck_code].cards\n",
    "        )\n",
    "\n",
    "    def can_be_added_to_cluster(self, distance: int) -> Optional[bool]:\n",
    "        # If adding the new deck would make the intersection go over the archetype size, it will never be able to be added\n",
    "        # For example if we currently have an intersection of 30 and an archetype size of 28, the max distance to add is 2\n",
    "        if distance > len(self.intersection) - self.archetype_size:\n",
    "            return None\n",
    "\n",
    "        else:\n",
    "            return True\n",
    "\n",
    "    def add(self, deck_code: str) -> None:\n",
    "        self.decks.append(deck_code)\n",
    "        # & is the intersection operator for sets\n",
    "        self.intersection = self.intersection & decks_data[deck_code].cards\n"
   ]
  },
  {
   "cell_type": "code",
   "execution_count": 9,
   "metadata": {},
   "outputs": [],
   "source": [
    "for deck_code in decks_data:\n",
    "    # A deck code has 100% overlap with itself\n",
    "    assert CommonCardsCluster.deck_to_deck_distance(deck_code, deck_code) == 0\n",
    "\n",
    "    if deck_code != first_deck_code:\n",
    "        # deck-to-deck distance is always > 0 as they're distinct and <= 40 as that's the maximum difference\n",
    "        assert (\n",
    "            0\n",
    "            < CommonCardsCluster.deck_to_deck_distance(deck_code, first_deck_code)\n",
    "            <= 40\n",
    "        )\n",
    "\n",
    "        # In this specific case, the distance to the cluster is the same as the distance to the deck:\n",
    "        #   it's the number of non-overlapping cards\n",
    "        cluster = CommonCardsCluster(first_deck_code)\n",
    "\n",
    "        assert cluster.distance(deck_code) == CommonCardsCluster.deck_to_deck_distance(\n",
    "            deck_code, first_deck_code\n",
    "        )\n",
    "\n",
    "# Validation of the centered clusters code\n",
    "for deck in factions_decks[max_faction][:200]:\n",
    "\n",
    "    # Only checking out of 200 decks for speed\n",
    "    cluster = get_centered_cluster(\n",
    "        deck,\n",
    "        factions_decks[max_faction][:200],\n",
    "        CommonCardsCluster,\n",
    "    )\n",
    "\n",
    "    # We check the number of cards common to all decks in the cluster\n",
    "    if len(cluster.decks) > 1:\n",
    "        # If have more than one deck, their intersection is at most 39 cards\n",
    "        assert 40 > len(cluster.intersection) >= ARCHETYPE_SIZE\n",
    "    else:\n",
    "        # A few decks simple have no good neigbors, we check the distance is > DECK_SIZE - ARCHETYPE_SIZE\n",
    "        assert min(cluster.distance(d) for d in factions_decks[max_faction][:200] if d != deck) > DECK_SIZE - ARCHETYPE_SIZE\n",
    "\n",
    "# Validation of the best clusters code\n",
    "clusters = get_best_clusters(factions_decks[max_faction][:200], cluster_class=CommonCardsCluster)\n",
    "\n",
    "# We clustered 200 decks, the sum of clusters lengths should be 200\n",
    "assert sum(len(c) for c in clusters) == 200\n",
    "\n",
    "# Checking we have the right intersection sizes\n",
    "for cluster in clusters:\n",
    "    assert 40 >= len(cluster.intersection) >= ARCHETYPE_SIZE\n"
   ]
  },
  {
   "cell_type": "markdown",
   "metadata": {},
   "source": [
    "### Putting it all together\n",
    "\n",
    "#### Parameter selection\n",
    "\n",
    "Selecting the right `ARCHETYPE_SIZE` is crucial so I experimented with a few different values. Keep in mind we have ~30,000 decklists.\n",
    "\n",
    "| ARCHETYPE_SIZE | ARCHETYPES | AVG DECK/ARCHETYPE FOR TOP 100 |\n",
    "| --- | --- | --- | \n",
    "| 30 | 10132 | 53 |\n",
    "| 28 | 8847 | 65 |\n",
    "| 25 | 7032 | 80 |\n",
    "\n",
    "`ARCHETYPE_SIZE=28` looks like a good spot for archetype size and is coherent with the intuition of what defines an archetype. It allows for 12 cards to be different between decklists, which is 4 individual playsets of cards.\n",
    "\n",
    "At the same time, the most popular archetype (Senna Veigar) contains over **500 different decks** which is starting to obscure a lot of individual card choices which may be meaningful.\n",
    "\n",
    "A dynamic `ARCHETYPE_SIZE` might be what's needed, in particular for decks which have a lot of \"flex\" slots. Smaller changes in those popular decks could create new archetypes, and fringe decks could get grouped more easily to allow for easier analysis. This might be something I explore in the future.\n",
    "\n",
    "#### Analysing the results\n",
    "\n",
    "And finally we get to the fun part, running it and finding out what's the best deck in Legends of Runeterra right now!\n",
    "\n",
    "Or so I thought. Let's take a look at the result."
   ]
  },
  {
   "cell_type": "code",
   "execution_count": 10,
   "metadata": {},
   "outputs": [
    {
     "data": {
      "application/vnd.jupyter.widget-view+json": {
       "model_id": "7fbce2c275354af5899fb59ef648b06b",
       "version_major": 2,
       "version_minor": 0
      },
      "text/plain": [
       "  0%|          | 0/88 [00:00<?, ?it/s]"
      ]
     },
     "metadata": {},
     "output_type": "display_data"
    }
   ],
   "source": [
    "\n",
    "# This will be a list of lists containing deck codes\n",
    "common_cards_cluster = []\n",
    "\n",
    "# Progress visualization\n",
    "from tqdm.notebook import tqdm\n",
    "\n",
    "# Running the clustering process for all regions takes a few minutes\n",
    "# It could be heavily optimized but it's good enough for now\n",
    "for faction in tqdm(factions_decks):\n",
    "    best_clusters = get_best_clusters(factions_decks[faction], CommonCardsCluster)\n",
    "    common_cards_cluster.extend(best_clusters)\n"
   ]
  },
  {
   "cell_type": "code",
   "execution_count": 11,
   "metadata": {},
   "outputs": [
    {
     "data": {
      "text/html": [
       "<h3>Miss Fortune Twisted Fate - Bilgewater Noxus</h3>\n",
       "    <ul>\n",
       "    <li><b>59.54% winrate</b></li>\n",
       "    <li>127,094 games</li>\n",
       "    <li>257 decklists</li>\n",
       "    <li>Aggregated decklist: <table>\n",
       "<tbody>\n",
       "<tr><td>3x Precious Pet       </td><td>3x Marai Warden  </td><td>3x Legion Saboteur </td><td>3x Decimate      </td></tr>\n",
       "<tr><td>3x Noxian Fervor      </td><td>3x Jagged Butcher</td><td>3x Legion Rearguard</td><td>3x Zap Sprayfin  </td></tr>\n",
       "<tr><td>3x Legion Grenadier   </td><td>3x Twisted Fate  </td><td>3x Miss Fortune    </td><td>3x Riptide Sermon</td></tr>\n",
       "<tr><td>2x Eye of Nagakabouros</td><td>2x Make it Rain  </td><td>                   </td><td>                 </td></tr>\n",
       "</tbody>\n",
       "</table></li></ul>"
      ],
      "text/plain": [
       "<IPython.core.display.HTML object>"
      ]
     },
     "metadata": {},
     "output_type": "display_data"
    },
    {
     "data": {
      "text/html": [
       "<h3>Miss Fortune Twisted Fate - Bilgewater Noxus</h3>\n",
       "    <ul>\n",
       "    <li><b>58.01% winrate</b></li>\n",
       "    <li>2,939 games</li>\n",
       "    <li>51 decklists</li>\n",
       "    <li>Aggregated decklist: <table>\n",
       "<tbody>\n",
       "<tr><td>3x Marai Warden  </td><td>3x Legion Saboteur    </td><td>3x Legion Grenadier</td><td>3x Noxian Fervor   </td></tr>\n",
       "<tr><td>3x Twisted Fate  </td><td>3x Miss Fortune       </td><td>3x Decimate        </td><td>3x Legion Rearguard</td></tr>\n",
       "<tr><td>3x Zap Sprayfin  </td><td>3x Eye of Nagakabouros</td><td>3x Precious Pet    </td><td>3x Riptide Sermon  </td></tr>\n",
       "<tr><td>2x Jagged Butcher</td><td>2x Make it Rain       </td><td>                   </td><td>                   </td></tr>\n",
       "</tbody>\n",
       "</table></li></ul>"
      ],
      "text/plain": [
       "<IPython.core.display.HTML object>"
      ]
     },
     "metadata": {},
     "output_type": "display_data"
    },
    {
     "data": {
      "text/html": [
       "<h3>Miss Fortune Twisted Fate - Bilgewater Noxus</h3>\n",
       "    <ul>\n",
       "    <li><b>58.58% winrate</b></li>\n",
       "    <li>1,137 games</li>\n",
       "    <li>32 decklists</li>\n",
       "    <li>Aggregated decklist: <table>\n",
       "<tbody>\n",
       "<tr><td>3x Marai Warden    </td><td>3x Legion Saboteur</td><td>3x Zap Sprayfin  </td><td>3x Decimate           </td></tr>\n",
       "<tr><td>3x Legion Grenadier</td><td>3x Noxian Fervor  </td><td>3x Miss Fortune  </td><td>3x Legion Rearguard   </td></tr>\n",
       "<tr><td>3x Jagged Butcher  </td><td>3x Riptide Sermon </td><td>3x Twisted Fate  </td><td>2x Eye of Nagakabouros</td></tr>\n",
       "<tr><td>2x Make it Rain    </td><td>2x Precious Pet   </td><td>1x Tentacle Smash</td><td>                      </td></tr>\n",
       "</tbody>\n",
       "</table></li></ul>"
      ],
      "text/plain": [
       "<IPython.core.display.HTML object>"
      ]
     },
     "metadata": {},
     "output_type": "display_data"
    },
    {
     "data": {
      "text/html": [
       "<h3>Gangplank Miss Fortune Twisted Fate - Bilgewater Noxus</h3>\n",
       "    <ul>\n",
       "    <li><b>56.78% winrate</b></li>\n",
       "    <li>2,892 games</li>\n",
       "    <li>31 decklists</li>\n",
       "    <li>Aggregated decklist: <table>\n",
       "<tbody>\n",
       "<tr><td>3x Legion Saboteur</td><td>3x Zap Sprayfin     </td><td>3x Decimate        </td><td>3x Imperial Demolitionist</td></tr>\n",
       "<tr><td>3x Noxian Fervor  </td><td>3x Crackshot Corsair</td><td>3x Miss Fortune    </td><td>3x Legion Rearguard      </td></tr>\n",
       "<tr><td>3x Marai Warden   </td><td>3x Precious Pet     </td><td>3x Legion Grenadier</td><td>2x Island Navigator      </td></tr>\n",
       "<tr><td>2x Twisted Fate   </td><td>1x Gangplank        </td><td>1x Jagged Butcher  </td><td>1x Arachnoid Sentry      </td></tr>\n",
       "</tbody>\n",
       "</table></li></ul>"
      ],
      "text/plain": [
       "<IPython.core.display.HTML object>"
      ]
     },
     "metadata": {},
     "output_type": "display_data"
    }
   ],
   "source": [
    "# We'll take a look at the 100 archetypes with the most games\n",
    "for cluster in sorted(common_cards_cluster, key=lambda x: len(x), reverse=True)[:100]:\n",
    "    stats = cluster.get_stats()\n",
    "\n",
    "    if \"Miss Fortune\" in stats.title and \"Twisted Fate\" in stats.title:\n",
    "        stats.display()\n"
   ]
  },
  {
   "cell_type": "markdown",
   "metadata": {},
   "source": [
    "As we can see, we have 3 archetypes that are... Pretty much the same MF-TF aggro deck. The differences in their aggregate decklists are minimal, and they should not be 3 different archetypes, or split differently at least.\n",
    "\n",
    "I think this is due to the fact that players will try pretty much *any* change to a decklist, which means each individual card will get cut from the decklist at some point. Archetypes aren't really defined by cards they *all* have in common, but more by *how many* cards they have in common.\n",
    "\n",
    "So it's time to implement our second distance!"
   ]
  },
  {
   "cell_type": "markdown",
   "metadata": {},
   "source": [
    "## Clustering based on cards differences\n",
    "\n",
    "Let's take the opposite approach:\n",
    "\n",
    "- The distance of a deck to a cluster is the **maximum** number of different cards it has with a deck in the cluster\n",
    "- We will add new decks by minimizing this maximum distance\n",
    "- We will set a limit on the maximum distance between two decks in an archetype\n",
    "\n",
    "The goal is to add decks that differ slightly from eachother, whichever cards the players decide to change.\n",
    "\n",
    "Even though the number seems high at `MAX_DIFFERENCE=15`, it's the *maximum* difference between two arbitrary decks in the cluster. As the clusters are formed iteratively, similar decks will get grouped together early and hopefuly it won't catch too many \"parallel\" archetypes."
   ]
  },
  {
   "cell_type": "code",
   "execution_count": 12,
   "metadata": {},
   "outputs": [],
   "source": [
    "# This will be the maximum number of different cards 2 different decks can have while in the same cluster\n",
    "MAX_DIFFERENCE = 15\n",
    "\n",
    "\n",
    "# Global distance cache\n",
    "decks_distance_cache = defaultdict(dict)\n",
    "\n",
    "\n",
    "def deck_to_deck_distance(dc_1: str, dc_2: str):\n",
    "    # This time we will use this distance heavily and add a distance cache\n",
    "\n",
    "    # We sort the decks\n",
    "    d1, d2 = sorted((dc_1, dc_2))\n",
    "\n",
    "    if d2 not in decks_distance_cache[d1]:\n",
    "        decks_distance_cache[d1][d2] = DECK_SIZE - len(\n",
    "            # & is the intersection operator for sets\n",
    "            decks_data[d1].cards\n",
    "            & decks_data[d2].cards\n",
    "        )\n",
    "\n",
    "    return decks_distance_cache[d1][d2]\n",
    "\n",
    "\n",
    "class DifferenceBasedCluster(Cluster):\n",
    "    def __init__(self, center: str) -> None:\n",
    "        super().__init__(center)\n",
    "\n",
    "        self.max_difference = MAX_DIFFERENCE\n",
    "\n",
    "        # Internal cluster distance cache to speed up max search\n",
    "        # Each deck will point to its maximum distance to the cluster\n",
    "        # Which means when iterating a deck, we only need to check what's biggest between the max distance in the cache and the one with the last deck added\n",
    "        self.cluster_distance_cache = defaultdict(lambda: 0)\n",
    "\n",
    "    def distance(self, deck_code: str) -> int:\n",
    "        # We could do max(self.deck_to_deck_distance(d, deck_code) for d in self.decks)\n",
    "        # But we want to speed things up and any deck with a distance > MAX_DIFFERENCE can be ruled out directly\n",
    "        max_distance = max(self.cluster_distance_cache[deck_code], deck_to_deck_distance(deck_code, self.decks[-1]))\n",
    "\n",
    "        # In this situation the deck we selected will be too far, we return the maximum value and we'll remove the deck\n",
    "        if max_distance > self.max_difference:\n",
    "            return float(\"inf\")\n",
    "\n",
    "        # Else we save the new value\n",
    "        self.cluster_distance_cache[deck_code] = max_distance\n",
    "        \n",
    "        return max_distance\n",
    "\n",
    "    def can_be_added_to_cluster(self, distance: int) -> Optional[bool]:\n",
    "        # By now I realize this function was superfluous, and we could have relied on distance() returning float(\"inf\") as our way to prune decks\n",
    "        #   Refactoring notebooks is a huge pain though so I won't change it :D\n",
    "\n",
    "        # If adding the new deck would make the intersection go over the archetype size, it will never be able to be added\n",
    "        # For example if we currently have an intersection of 30 and an archetype size of 28, the max distance to add is 2\n",
    "        if distance == float(\"inf\"):\n",
    "            return None\n",
    "\n",
    "        else:\n",
    "            return distance < self.max_difference\n",
    "\n",
    "    def add(self, deck_code: str) -> None:\n",
    "        self.decks.append(deck_code)\n"
   ]
  },
  {
   "cell_type": "code",
   "execution_count": 13,
   "metadata": {},
   "outputs": [],
   "source": [
    "for deck_code in decks_data:\n",
    "    # A deck code has 100% overlap with itself\n",
    "    assert deck_to_deck_distance(deck_code, deck_code) == 0\n",
    "\n",
    "    if deck_code != first_deck_code:\n",
    "        # deck-to-deck distance is always > 0 as they're distinct and <= 40 as that's the maximum difference\n",
    "        assert 0 < deck_to_deck_distance(deck_code, first_deck_code) <= 40\n",
    "\n",
    "        # In this specific case, the distance to the cluster is the same as the distance to the deck:\n",
    "        #   it's the number of non-overlapping cards\n",
    "        cluster = DifferenceBasedCluster(first_deck_code)\n",
    "\n",
    "        # Our cluster distance returns float(\"inf\") if deck is too far, so we need to check >= here\n",
    "        assert cluster.distance(deck_code) >= deck_to_deck_distance(\n",
    "            deck_code, first_deck_code\n",
    "        )\n",
    "\n",
    "# Validation of the centered clusters code\n",
    "for deck in factions_decks[max_faction][:200]:\n",
    "\n",
    "    # Only checking out of 200 decks for speed\n",
    "    cluster = get_centered_cluster(\n",
    "        deck,\n",
    "        factions_decks[max_faction][:200],\n",
    "        DifferenceBasedCluster,\n",
    "    )\n",
    "\n",
    "    assert len(cluster.decks)\n",
    "\n",
    "# Validation of the best clusters code\n",
    "clusters = get_best_clusters(\n",
    "    factions_decks[max_faction][:200],\n",
    "    cluster_class=DifferenceBasedCluster,\n",
    ")\n",
    "\n",
    "# We clustered 200 decks, the sum of clusters lengths should be 200\n",
    "assert sum(len(c) for c in clusters) == 200\n"
   ]
  },
  {
   "cell_type": "markdown",
   "metadata": {},
   "source": [
    "### Checking results\n"
   ]
  },
  {
   "cell_type": "code",
   "execution_count": 14,
   "metadata": {},
   "outputs": [
    {
     "data": {
      "application/vnd.jupyter.widget-view+json": {
       "model_id": "5a88d0dd1778418eae610c1bd963b4d9",
       "version_major": 2,
       "version_minor": 0
      },
      "text/plain": [
       "  0%|          | 0/88 [00:00<?, ?it/s]"
      ]
     },
     "metadata": {},
     "output_type": "display_data"
    }
   ],
   "source": [
    "# This will be a list of lists containing deck codes\n",
    "difference_based_clusters = []\n",
    "\n",
    "# Progress visualization\n",
    "from tqdm.notebook import tqdm\n",
    "\n",
    "# Running the clustering process for all regions is ~1 hour with that algorithm\n",
    "# It could be heavily optimized but let's say it's ok for now\n",
    "for faction in tqdm(factions_decks):\n",
    "    best_clusters = get_best_clusters(factions_decks[faction], DifferenceBasedCluster)\n",
    "    difference_based_clusters.extend(best_clusters)\n"
   ]
  },
  {
   "cell_type": "code",
   "execution_count": 15,
   "metadata": {},
   "outputs": [
    {
     "data": {
      "text/html": [
       "<h3>Miss Fortune Twisted Fate - Bilgewater Noxus</h3>\n",
       "    <ul>\n",
       "    <li><b>59.46% winrate</b></li>\n",
       "    <li>136,131 games</li>\n",
       "    <li>506 decklists</li>\n",
       "    <li>Aggregated decklist: <table>\n",
       "<tbody>\n",
       "<tr><td>3x Legion Saboteur    </td><td>3x Noxian Fervor</td><td>3x Decimate    </td><td>3x Legion Rearguard</td></tr>\n",
       "<tr><td>3x Marai Warden       </td><td>3x Zap Sprayfin </td><td>3x Precious Pet</td><td>3x Jagged Butcher  </td></tr>\n",
       "<tr><td>3x Legion Grenadier   </td><td>3x Twisted Fate </td><td>3x Miss Fortune</td><td>3x Riptide Sermon  </td></tr>\n",
       "<tr><td>2x Eye of Nagakabouros</td><td>2x Make it Rain </td><td>               </td><td>                   </td></tr>\n",
       "</tbody>\n",
       "</table></li></ul>"
      ],
      "text/plain": [
       "<IPython.core.display.HTML object>"
      ]
     },
     "metadata": {},
     "output_type": "display_data"
    }
   ],
   "source": [
    "# We'll take a look at the 1000 archetypes with the most games\n",
    "for cluster in sorted(difference_based_clusters, key=lambda x: len(x), reverse=True)[:100]:\n",
    "    stats = cluster.get_stats()\n",
    "\n",
    "    if stats.title.startswith(\"Miss Fortune Twisted Fate\"):\n",
    "        stats.display()\n"
   ]
  },
  {
   "cell_type": "markdown",
   "metadata": {},
   "source": [
    "Looks better! We only have a single pirates aggro list that properly catches the decklists from the 3 previous ones we had.\n",
    "\n",
    "So after all this... Let's take a look at the best decks and call it a day :D"
   ]
  },
  {
   "cell_type": "code",
   "execution_count": 27,
   "metadata": {},
   "outputs": [
    {
     "data": {
      "text/html": [
       "<h3>Miss Fortune Twisted Fate - Bilgewater Noxus</h3>\n",
       "    <ul>\n",
       "    <li><b>59.45% winrate</b></li>\n",
       "    <li>137,768 games</li>\n",
       "    <li>506 decklists</li>\n",
       "    <li>Aggregated decklist: <table>\n",
       "<tbody>\n",
       "<tr><td>3x Legion Saboteur    </td><td>3x Noxian Fervor</td><td>3x Decimate    </td><td>3x Legion Rearguard</td></tr>\n",
       "<tr><td>3x Marai Warden       </td><td>3x Zap Sprayfin </td><td>3x Precious Pet</td><td>3x Jagged Butcher  </td></tr>\n",
       "<tr><td>3x Legion Grenadier   </td><td>3x Twisted Fate </td><td>3x Miss Fortune</td><td>3x Riptide Sermon  </td></tr>\n",
       "<tr><td>2x Eye of Nagakabouros</td><td>2x Make it Rain </td><td>               </td><td>                   </td></tr>\n",
       "</tbody>\n",
       "</table></li></ul>"
      ],
      "text/plain": [
       "<IPython.core.display.HTML object>"
      ]
     },
     "metadata": {},
     "output_type": "display_data"
    },
    {
     "data": {
      "text/html": [
       "<h3>Ziggs Katarina Annie - Noxus Shurima</h3>\n",
       "    <ul>\n",
       "    <li><b>58.10% winrate</b></li>\n",
       "    <li>4,881 games</li>\n",
       "    <li>40 decklists</li>\n",
       "    <li>Aggregated decklist: <table>\n",
       "<tbody>\n",
       "<tr><td>3x Legion Saboteur </td><td>3x Treasure Seeker </td><td>3x Imperial Demolitionist</td><td>3x Decimate     </td></tr>\n",
       "<tr><td>3x Legion Rearguard</td><td>3x Merciless Hunter</td><td>3x Legion Grenadier      </td><td>3x Ruin Runner  </td></tr>\n",
       "<tr><td>3x Ruinous Path    </td><td>3x Baccai Reaper   </td><td>3x Annie                 </td><td>2x Noxian Fervor</td></tr>\n",
       "<tr><td>2x Ziggs           </td><td>2x Might           </td><td>1x Katarina              </td><td>                </td></tr>\n",
       "</tbody>\n",
       "</table></li></ul>"
      ],
      "text/plain": [
       "<IPython.core.display.HTML object>"
      ]
     },
     "metadata": {},
     "output_type": "display_data"
    },
    {
     "data": {
      "text/html": [
       "<h3>Taric Poppy - Demacia MtTargon</h3>\n",
       "    <ul>\n",
       "    <li><b>57.50% winrate</b></li>\n",
       "    <li>25,699 games</li>\n",
       "    <li>296 decklists</li>\n",
       "    <li>Aggregated decklist: <table>\n",
       "<tbody>\n",
       "<tr><td>3x Golden Aegis         </td><td>3x Petricite Broadwing </td><td>3x Poppy              </td><td>3x Esmus, Breath of the World</td></tr>\n",
       "<tr><td>3x Taric                </td><td>3x Fleetfeather Tracker</td><td>3x Mountain Sojourners</td><td>3x Pale Cascade              </td></tr>\n",
       "<tr><td>3x Laurent Protege      </td><td>2x Relentless Pursuit  </td><td>2x Tyari the Traveler </td><td>2x Guiding Touch             </td></tr>\n",
       "<tr><td>2x Solari Soldier       </td><td>1x Concerted Strike    </td><td>1x Bastion            </td><td>1x Ranger&#x27;s Resolve          </td></tr>\n",
       "<tr><td>1x Brightsteel Protector</td><td>1x Sharpsight          </td><td>                      </td><td>                             </td></tr>\n",
       "</tbody>\n",
       "</table></li></ul>"
      ],
      "text/plain": [
       "<IPython.core.display.HTML object>"
      ]
     },
     "metadata": {},
     "output_type": "display_data"
    },
    {
     "data": {
      "text/html": [
       "<h3>Annie Jhin - Jhin Noxus</h3>\n",
       "    <ul>\n",
       "    <li><b>57.35% winrate</b></li>\n",
       "    <li>69,715 games</li>\n",
       "    <li>463 decklists</li>\n",
       "    <li>Aggregated decklist: <table>\n",
       "<tbody>\n",
       "<tr><td>3x Legion Saboteur       </td><td>3x Boomcrew Rookie </td><td>3x Noxian Fervor</td><td>3x Jhin            </td></tr>\n",
       "<tr><td>3x Annie                 </td><td>3x Tusk Speaker    </td><td>3x Decimate     </td><td>3x Legion Rearguard</td></tr>\n",
       "<tr><td>3x Imperial Demolitionist</td><td>3x Solari Sunhawk  </td><td>3x The Stagehand</td><td>3x Doombeast       </td></tr>\n",
       "<tr><td>3x Crackshot Corsair     </td><td>1x Arachnoid Sentry</td><td>                </td><td>                   </td></tr>\n",
       "</tbody>\n",
       "</table></li></ul>"
      ],
      "text/plain": [
       "<IPython.core.display.HTML object>"
      ]
     },
     "metadata": {},
     "output_type": "display_data"
    },
    {
     "data": {
      "text/html": [
       "<h3>Gnar Sejuani - BandleCity Freljord</h3>\n",
       "    <ul>\n",
       "    <li><b>57.34% winrate</b></li>\n",
       "    <li>3,122 games</li>\n",
       "    <li>57 decklists</li>\n",
       "    <li>Aggregated decklist: <table>\n",
       "<tbody>\n",
       "<tr><td>3x Teenydactyl </td><td>3x Pokey Stick</td><td>3x Inventive Chemist  </td><td>3x Sejuani      </td></tr>\n",
       "<tr><td>3x Gnar        </td><td>3x Troll Chant</td><td>3x Chief Nakotak      </td><td>3x Tusk Speaker </td></tr>\n",
       "<tr><td>3x Bitsy Lizard</td><td>3x Poison Dart</td><td>3x Ursine Spiritwalker</td><td>2x Three Sisters</td></tr>\n",
       "<tr><td>2x Spotted Toad</td><td>2x Minitee    </td><td>1x Elixir of Iron     </td><td>                </td></tr>\n",
       "</tbody>\n",
       "</table></li></ul>"
      ],
      "text/plain": [
       "<IPython.core.display.HTML object>"
      ]
     },
     "metadata": {},
     "output_type": "display_data"
    },
    {
     "data": {
      "text/html": [
       "<h3>Elise Gwen - Noxus ShadowIsles</h3>\n",
       "    <ul>\n",
       "    <li><b>57.14% winrate</b></li>\n",
       "    <li>27,051 games</li>\n",
       "    <li>287 decklists</li>\n",
       "    <li>Aggregated decklist: <table>\n",
       "<tbody>\n",
       "<tr><td>3x Decimate          </td><td>3x Precious Pet    </td><td>3x Noxian Fervor         </td><td>3x Arachnoid Horror</td></tr>\n",
       "<tr><td>3x Doombeast         </td><td>3x Stygian Onlooker</td><td>3x Elise                 </td><td>3x House Spider    </td></tr>\n",
       "<tr><td>3x Frenzied Skitterer</td><td>3x Legion Saboteur </td><td>2x Imperial Demolitionist</td><td>2x Stalking Shadows</td></tr>\n",
       "<tr><td>2x Gwen              </td><td>2x Boisterous Host </td><td>2x Phantom Butler        </td><td>                   </td></tr>\n",
       "</tbody>\n",
       "</table></li></ul>"
      ],
      "text/plain": [
       "<IPython.core.display.HTML object>"
      ]
     },
     "metadata": {},
     "output_type": "display_data"
    },
    {
     "data": {
      "text/html": [
       "<h3>Gangplank Miss Fortune Twisted Fate - Bilgewater Noxus</h3>\n",
       "    <ul>\n",
       "    <li><b>57.04% winrate</b></li>\n",
       "    <li>3,054 games</li>\n",
       "    <li>48 decklists</li>\n",
       "    <li>Aggregated decklist: <table>\n",
       "<tbody>\n",
       "<tr><td>3x Noxian Fervor</td><td>3x Miss Fortune     </td><td>3x Legion Saboteur       </td><td>3x Legion Rearguard</td></tr>\n",
       "<tr><td>3x Decimate     </td><td>3x Crackshot Corsair</td><td>3x Imperial Demolitionist</td><td>3x Zap Sprayfin    </td></tr>\n",
       "<tr><td>3x Marai Warden </td><td>3x Precious Pet     </td><td>3x Legion Grenadier      </td><td>2x Island Navigator</td></tr>\n",
       "<tr><td>2x Twisted Fate </td><td>2x Arachnoid Sentry </td><td>1x Gangplank             </td><td>                   </td></tr>\n",
       "</tbody>\n",
       "</table></li></ul>"
      ],
      "text/plain": [
       "<IPython.core.display.HTML object>"
      ]
     },
     "metadata": {},
     "output_type": "display_data"
    },
    {
     "data": {
      "text/html": [
       "<h3>Viego Evelynn - Evelynn ShadowIsles</h3>\n",
       "    <ul>\n",
       "    <li><b>56.95% winrate</b></li>\n",
       "    <li>83,699 games</li>\n",
       "    <li>610 decklists</li>\n",
       "    <li>Aggregated decklist: <table>\n",
       "<tbody>\n",
       "<tr><td>3x Camavoran Soldier   </td><td>3x Viego      </td><td>3x Evelynn   </td><td>3x Sultur    </td></tr>\n",
       "<tr><td>3x Glimpse Beyond      </td><td>3x Hate Spike </td><td>3x Domination</td><td>3x Vile Feast</td></tr>\n",
       "<tr><td>3x Invasive Hydravine  </td><td>3x Black Spear</td><td>2x Vengeance </td><td>2x Vora      </td></tr>\n",
       "<tr><td>2x Neverglade Collector</td><td>2x Atrocity   </td><td>2x Barkbeast </td><td>             </td></tr>\n",
       "</tbody>\n",
       "</table></li></ul>"
      ],
      "text/plain": [
       "<IPython.core.display.HTML object>"
      ]
     },
     "metadata": {},
     "output_type": "display_data"
    },
    {
     "data": {
      "text/html": [
       "<h3>Gwen Elise Katarina - Noxus ShadowIsles</h3>\n",
       "    <ul>\n",
       "    <li><b>56.83% winrate</b></li>\n",
       "    <li>39,115 games</li>\n",
       "    <li>249 decklists</li>\n",
       "    <li>Aggregated decklist: <table>\n",
       "<tbody>\n",
       "<tr><td>3x Boisterous Host</td><td>3x Phantom Butler </td><td>3x Gwen            </td><td>3x Ravenous Flock  </td></tr>\n",
       "<tr><td>3x Fallen Reckoner</td><td>3x Ruined Reckoner</td><td>3x House Spider    </td><td>3x Legion Rearguard</td></tr>\n",
       "<tr><td>3x Vile Feast     </td><td>2x Eternal Dancers</td><td>2x Arachnoid Sentry</td><td>2x The Harrowing   </td></tr>\n",
       "<tr><td>2x Hate Spike     </td><td>2x Katarina       </td><td>2x Glimpse Beyond  </td><td>1x Elise           </td></tr>\n",
       "</tbody>\n",
       "</table></li></ul>"
      ],
      "text/plain": [
       "<IPython.core.display.HTML object>"
      ]
     },
     "metadata": {},
     "output_type": "display_data"
    },
    {
     "data": {
      "text/html": [
       "<h3>Shyvana Aurelion Sol - Demacia MtTargon</h3>\n",
       "    <ul>\n",
       "    <li><b>56.81% winrate</b></li>\n",
       "    <li>5,497 games</li>\n",
       "    <li>87 decklists</li>\n",
       "    <li>Aggregated decklist: <table>\n",
       "<tbody>\n",
       "<tr><td>3x Shyvana           </td><td>3x Dragon Chow           </td><td>3x Herald of Dragons   </td><td>3x Dragon&#x27;s Clutch</td></tr>\n",
       "<tr><td>3x Single Combat     </td><td>3x Ruined Dragonguard    </td><td>3x Screeching Dragon   </td><td>3x Sharpsight     </td></tr>\n",
       "<tr><td>3x Wounded Whiteflame</td><td>3x Dragonguard Lieutenant</td><td>3x Strafing Strike     </td><td>2x Eclipse Dragon </td></tr>\n",
       "<tr><td>2x Aurelion Sol      </td><td>2x Concerted Strike      </td><td>1x Kadregrin the Ruined</td><td>                  </td></tr>\n",
       "</tbody>\n",
       "</table></li></ul>"
      ],
      "text/plain": [
       "<IPython.core.display.HTML object>"
      ]
     },
     "metadata": {},
     "output_type": "display_data"
    }
   ],
   "source": [
    "# Let's take a look at the 100 archetypes with the most games and print the 10 highest winrates amongst tho\n",
    "for cluster in sorted(\n",
    "    sorted(difference_based_clusters, key=lambda x: len(x), reverse=True)[:100],\n",
    "    key=lambda x: x.get_stats().winrate,\n",
    "    reverse=True,\n",
    ")[:10]:\n",
    "    stats = cluster.get_stats()\n",
    "    stats.display()\n"
   ]
  },
  {
   "cell_type": "markdown",
   "metadata": {},
   "source": [
    "# Conclusion\n",
    "\n",
    "Because clustering is still excruciatingly slow, I'm not really satisfied with this first approach.\n",
    "\n",
    "At the same time we can use heuristics for clustering. For Legends of Runeterra, this can simply be looking at champions and regions.\n",
    "\n",
    "If you have any other idea for how to implement clustering for card games in an even more game-agnostic way, don't hestitate! I'll still be looking at the subject moving forward, even though this blogpost already took me much more time than expected as my first notebook-based blog post."
   ]
  }
 ],
 "metadata": {
  "celltoolbar": "Edit Metadata",
  "kernelspec": {
   "display_name": "Python 3 (ipykernel)",
   "language": "python",
   "name": "python3"
  },
  "language_info": {
   "codemirror_mode": {
    "name": "ipython",
    "version": 3
   },
   "file_extension": ".py",
   "mimetype": "text/x-python",
   "name": "python",
   "nbconvert_exporter": "python",
   "pygments_lexer": "ipython3",
   "version": "3.10.1"
  },
  "vscode": {
   "interpreter": {
    "hash": "38005568a267ab03f4be61fc3c59d22c28bda53509b3e329fe6ecbe58402886d"
   }
  }
 },
 "nbformat": 4,
 "nbformat_minor": 2
}
